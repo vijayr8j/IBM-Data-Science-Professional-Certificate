{
  "nbformat": 4,
  "nbformat_minor": 0,
  "metadata": {
    "colab": {
      "name": "data section.ipynb",
      "provenance": []
    },
    "kernelspec": {
      "name": "python3",
      "display_name": "Python 3"
    }
  },
  "cells": [
    {
      "cell_type": "markdown",
      "metadata": {
        "id": "A-lmfVyqfBQ6",
        "colab_type": "text"
      },
      "source": [
        "---\n",
        "<h2><i>Capstone Projects:</i></h2><h1><b>The Battle of Neighbourhoods</h1></b>\n",
        "\n",
        "---\n",
        "   <h2>This project helps to understand the real world problems and how to deal with that problems.  Here we use all the conceps that we have come across this course. Implementation of this concepts will strenghten you skills to crack the various scenerios in future.</h3>"
      ]
    },
    {
      "cell_type": "markdown",
      "metadata": {
        "id": "CnZ0apT6kcms",
        "colab_type": "text"
      },
      "source": [
        "<h1><i>Cheap And Best Foods</i><b> IN CANADA</b></h1>\n",
        "\n",
        "---\n",
        "<img src=\"data:image/jpeg;base64,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\">"
      ]
    },
    {
      "cell_type": "markdown",
      "metadata": {
        "id": "ZggFRJp-kciQ",
        "colab_type": "text"
      },
      "source": [
        "<h2><b>Topics to be discussed are:</b></h><i><font color=\"red\">\n",
        "\n",
        "\n",
        "*   Lauching Problem Statements\n",
        "*   Data Section\n",
        "\n",
        "*   working on Problem Statements \n",
        "*   Conclusion\n",
        "\n",
        "</i>\n",
        "\n",
        "\n",
        "\n",
        "\n",
        "\n",
        "\n",
        "\n"
      ]
    },
    {
      "cell_type": "markdown",
      "metadata": {
        "id": "xsn5AA1akcef",
        "colab_type": "text"
      },
      "source": [
        "# <b>Launching Problem statements</b>\n",
        "\n"
      ]
    },
    {
      "cell_type": "markdown",
      "metadata": {
        "id": "-ha-1jyOkcaU",
        "colab_type": "text"
      },
      "source": [
        "<h3>As many of the people are intered in travelling different parts of the world and to taste different foods and cuisines, it is necessary to spend money wisely and at the same time we should not compromise on the quality of the food.</h3>                              \n",
        "<h3>Keeping this in mind, I have Brainstromed some problems statements.  They are:</h3>\n",
        "\n",
        "\n",
        "\n",
        "1.   Any newbie to the city scarborough,canada cannot find the best hotels.\n",
        "2.   Incase they are able to find the best hotel, the cost of the hotel is too high.    <b>\n",
        "\n",
        "1.   Inorder to avoid this situation, we are going to derive insights of the hotels which have best rating and also low cost.\n",
        "---\n",
        "\n",
        "\n",
        "\n",
        "\n",
        "\n",
        "\n"
      ]
    },
    {
      "cell_type": "markdown",
      "metadata": {
        "id": "9MpcFu2LkcWz",
        "colab_type": "text"
      },
      "source": [
        "# **Data Section**"
      ]
    },
    {
      "cell_type": "markdown",
      "metadata": {
        "id": "jM8l7PXQkcQd",
        "colab_type": "text"
      },
      "source": [
        "<h3>This section deals with which data we are going to use ahd how to deal with the data. </h3>\n",
        "\n",
        "Data that are going to use is from the wikipedia page:\n",
        "https://en.wikipedia.org/wiki/List_of_postal_codes_of_Canada:_M    \n",
        "\n",
        "In this page we have table contains the details of postal code, borough and neighbourhood.\n",
        "we are going to the scrap this data using <b>Request and lxml.html </b>packages.\n",
        "\n",
        "After Scrapping the data we will <b>pandas</b> library to convert data to dataframe.\n",
        "\n",
        "Then we will be using <b>numpy</b> for numerical calculaitons.\n",
        "\n",
        "<b>geopy.geocoders</b> is used for get location details.\n",
        "\n",
        "<b>foursquare API</b> is used for making requesst to get the results in the desired location and using this we can do various operations.\n",
        "\n",
        "<b>json </b>package is used for getting the response from the <b>foursquare API</b>.\n",
        "\n",
        "<b>Matplotlib </b> library is used for ploting data, used for visualization.\n",
        "\n",
        "<b>Folium</b> is used for plotting geographical data.\n",
        "\n",
        "<b>sklearn</b> is powerful library which contains builtin models, in this we use <b>k-means clustering</b> for clustering data\n",
        "\n",
        "\n",
        "\n"
      ]
    },
    {
      "cell_type": "code",
      "metadata": {
        "id": "B3HtsMHwfY7G",
        "colab_type": "code",
        "colab": {}
      },
      "source": [
        ""
      ],
      "execution_count": null,
      "outputs": []
    }
  ]
}
{
  "nbformat": 4,
  "nbformat_minor": 0,
  "metadata": {
    "colab": {
      "name": ".ipynb",
      "provenance": []
    },
    "kernelspec": {
      "name": "python3",
      "display_name": "Python 3"
    }
  },
  "cells": [
    {
      "cell_type": "markdown",
      "metadata": {
        "id": "RBgNOHmteS3H",
        "colab_type": "text"
      },
      "source": [
        "# Segmenting and Clustering Neighborhoods in Toronto\n"
      ]
    },
    {
      "cell_type": "markdown",
      "metadata": {
        "id": "HS9plVj9fEIY",
        "colab_type": "text"
      },
      "source": [
        "**Importing libraries**"
      ]
    },
    {
      "cell_type": "code",
      "metadata": {
        "id": "TPXS4RJhOH2X",
        "colab_type": "code",
        "colab": {}
      },
      "source": [
        "import requests\n",
        "import lxml.html as lh\n",
        "import pandas as pd"
      ],
      "execution_count": 175,
      "outputs": []
    },
    {
      "cell_type": "markdown",
      "metadata": {
        "id": "duImzgjtfSJa",
        "colab_type": "text"
      },
      "source": [
        "*scrapping the data from webpage*"
      ]
    },
    {
      "cell_type": "code",
      "metadata": {
        "id": "1aITkWyiOQZM",
        "colab_type": "code",
        "colab": {}
      },
      "source": [
        "#getting the url \n",
        "url='https://en.wikipedia.org/wiki/List_of_postal_codes_of_Canada:_M'\n",
        "#convert the data in webpage to work on it\n",
        "page=requests.get(url)\n",
        "doc=lh.fromstring(page.content)\n",
        "tr_elements=doc.xpath('//tr')\n"
      ],
      "execution_count": 201,
      "outputs": []
    },
    {
      "cell_type": "markdown",
      "metadata": {
        "id": "vTj7P4D_fcMB",
        "colab_type": "text"
      },
      "source": [
        "*Storing header and creating columns to store the data*"
      ]
    },
    {
      "cell_type": "code",
      "metadata": {
        "id": "3HCg5oOnSBcb",
        "colab_type": "code",
        "colab": {
          "base_uri": "https://localhost:8080/",
          "height": 120
        },
        "outputId": "de977b5b-4ad7-4c02-8378-352a601df431"
      },
      "source": [
        "col=[]\n",
        "i=0\n",
        "#iterating the tr_elements to get the header and create a columns\n",
        "for t in tr_elements[0]:\n",
        "  i+=1\n",
        "  name=t.text_content()\n",
        "  print ('%d:%s'%(i,name))\n",
        "  col.append((name,[]))\n"
      ],
      "execution_count": 203,
      "outputs": [
        {
          "output_type": "stream",
          "text": [
            "1:Postal Code\n",
            "\n",
            "2:Borough\n",
            "\n",
            "3:Neighborhood\n",
            "\n"
          ],
          "name": "stdout"
        }
      ]
    },
    {
      "cell_type": "markdown",
      "metadata": {
        "id": "jxpcqbdkgPaw",
        "colab_type": "text"
      },
      "source": [
        "*preprocessing the data to convert it into dataframe*"
      ]
    },
    {
      "cell_type": "code",
      "metadata": {
        "id": "FY-F6n0YSoAP",
        "colab_type": "code",
        "colab": {}
      },
      "source": [
        "#iterate to get data in col list\n",
        "for j in range(1,len(tr_elements)):\n",
        "  T=tr_elements[j]\n",
        "  if(len(T)!=3):\n",
        "    break;\n",
        "  i=0\n",
        "  for t in T.iterchildren():\n",
        "    data=t.text_content() \n",
        "    try:\n",
        "      data=int(data)\n",
        "    except:\n",
        "      pass\n",
        "    col[i][1].append(data)\n",
        "    i+=1\n"
      ],
      "execution_count": 204,
      "outputs": []
    },
    {
      "cell_type": "markdown",
      "metadata": {
        "id": "luD1_vaBgle3",
        "colab_type": "text"
      },
      "source": [
        "*Converting the list into dictionary and converting it into dataframe*"
      ]
    },
    {
      "cell_type": "code",
      "metadata": {
        "id": "Qb2QpRVDSptU",
        "colab_type": "code",
        "colab": {
          "base_uri": "https://localhost:8080/",
          "height": 203
        },
        "outputId": "210906b7-f755-4e24-fe4c-f6334ac82eb7"
      },
      "source": [
        "#converting the list into dicitonary\n",
        "dic= {title:column for (title,column) in col} \n",
        "#converting the dictionary to dataframe\n",
        "df=pd.DataFrame(dic)\n",
        "df.head(5)\n"
      ],
      "execution_count": 205,
      "outputs": [
        {
          "output_type": "execute_result",
          "data": {
            "text/html": [
              "<div>\n",
              "<style scoped>\n",
              "    .dataframe tbody tr th:only-of-type {\n",
              "        vertical-align: middle;\n",
              "    }\n",
              "\n",
              "    .dataframe tbody tr th {\n",
              "        vertical-align: top;\n",
              "    }\n",
              "\n",
              "    .dataframe thead th {\n",
              "        text-align: right;\n",
              "    }\n",
              "</style>\n",
              "<table border=\"1\" class=\"dataframe\">\n",
              "  <thead>\n",
              "    <tr style=\"text-align: right;\">\n",
              "      <th></th>\n",
              "      <th>Postal Code\\n</th>\n",
              "      <th>Borough\\n</th>\n",
              "      <th>Neighborhood\\n</th>\n",
              "    </tr>\n",
              "  </thead>\n",
              "  <tbody>\n",
              "    <tr>\n",
              "      <th>0</th>\n",
              "      <td>M1A\\n</td>\n",
              "      <td>Not assigned\\n</td>\n",
              "      <td>Not assigned\\n</td>\n",
              "    </tr>\n",
              "    <tr>\n",
              "      <th>1</th>\n",
              "      <td>M2A\\n</td>\n",
              "      <td>Not assigned\\n</td>\n",
              "      <td>Not assigned\\n</td>\n",
              "    </tr>\n",
              "    <tr>\n",
              "      <th>2</th>\n",
              "      <td>M3A\\n</td>\n",
              "      <td>North York\\n</td>\n",
              "      <td>Parkwoods\\n</td>\n",
              "    </tr>\n",
              "    <tr>\n",
              "      <th>3</th>\n",
              "      <td>M4A\\n</td>\n",
              "      <td>North York\\n</td>\n",
              "      <td>Victoria Village\\n</td>\n",
              "    </tr>\n",
              "    <tr>\n",
              "      <th>4</th>\n",
              "      <td>M5A\\n</td>\n",
              "      <td>Downtown Toronto\\n</td>\n",
              "      <td>Regent Park, Harbourfront\\n</td>\n",
              "    </tr>\n",
              "  </tbody>\n",
              "</table>\n",
              "</div>"
            ],
            "text/plain": [
              "  Postal Code\\n           Borough\\n               Neighborhood\\n\n",
              "0         M1A\\n      Not assigned\\n               Not assigned\\n\n",
              "1         M2A\\n      Not assigned\\n               Not assigned\\n\n",
              "2         M3A\\n        North York\\n                  Parkwoods\\n\n",
              "3         M4A\\n        North York\\n           Victoria Village\\n\n",
              "4         M5A\\n  Downtown Toronto\\n  Regent Park, Harbourfront\\n"
            ]
          },
          "metadata": {
            "tags": []
          },
          "execution_count": 205
        }
      ]
    },
    {
      "cell_type": "markdown",
      "metadata": {
        "id": "hzTNd_qMg_Lj",
        "colab_type": "text"
      },
      "source": [
        "*Cleaning the data*"
      ]
    },
    {
      "cell_type": "code",
      "metadata": {
        "id": "Zjbfc49GtA-1",
        "colab_type": "code",
        "colab": {
          "base_uri": "https://localhost:8080/",
          "height": 203
        },
        "outputId": "293830f8-22aa-4843-91b3-ae98777c9602"
      },
      "source": [
        "#join the same pincode neighbours\n",
        "df.columns = ['Postcode','Borough','Neighbourhood']\n",
        "df=df.groupby(['Postcode','Borough'])['Neighbourhood'].apply(','.join).reset_index()\n",
        "df.head()"
      ],
      "execution_count": 206,
      "outputs": [
        {
          "output_type": "execute_result",
          "data": {
            "text/html": [
              "<div>\n",
              "<style scoped>\n",
              "    .dataframe tbody tr th:only-of-type {\n",
              "        vertical-align: middle;\n",
              "    }\n",
              "\n",
              "    .dataframe tbody tr th {\n",
              "        vertical-align: top;\n",
              "    }\n",
              "\n",
              "    .dataframe thead th {\n",
              "        text-align: right;\n",
              "    }\n",
              "</style>\n",
              "<table border=\"1\" class=\"dataframe\">\n",
              "  <thead>\n",
              "    <tr style=\"text-align: right;\">\n",
              "      <th></th>\n",
              "      <th>Postcode</th>\n",
              "      <th>Borough</th>\n",
              "      <th>Neighbourhood</th>\n",
              "    </tr>\n",
              "  </thead>\n",
              "  <tbody>\n",
              "    <tr>\n",
              "      <th>0</th>\n",
              "      <td>\\n</td>\n",
              "      <td>Canadian postal codes\\n</td>\n",
              "      <td>\\n</td>\n",
              "    </tr>\n",
              "    <tr>\n",
              "      <th>1</th>\n",
              "      <td>M1A\\n</td>\n",
              "      <td>Not assigned\\n</td>\n",
              "      <td>Not assigned\\n</td>\n",
              "    </tr>\n",
              "    <tr>\n",
              "      <th>2</th>\n",
              "      <td>M1B\\n</td>\n",
              "      <td>Scarborough\\n</td>\n",
              "      <td>Malvern, Rouge\\n</td>\n",
              "    </tr>\n",
              "    <tr>\n",
              "      <th>3</th>\n",
              "      <td>M1C\\n</td>\n",
              "      <td>Scarborough\\n</td>\n",
              "      <td>Rouge Hill, Port Union, Highland Creek\\n</td>\n",
              "    </tr>\n",
              "    <tr>\n",
              "      <th>4</th>\n",
              "      <td>M1E\\n</td>\n",
              "      <td>Scarborough\\n</td>\n",
              "      <td>Guildwood, Morningside, West Hill\\n</td>\n",
              "    </tr>\n",
              "  </tbody>\n",
              "</table>\n",
              "</div>"
            ],
            "text/plain": [
              "  Postcode                  Borough                             Neighbourhood\n",
              "0       \\n  Canadian postal codes\\n                                        \\n\n",
              "1    M1A\\n           Not assigned\\n                            Not assigned\\n\n",
              "2    M1B\\n            Scarborough\\n                          Malvern, Rouge\\n\n",
              "3    M1C\\n            Scarborough\\n  Rouge Hill, Port Union, Highland Creek\\n\n",
              "4    M1E\\n            Scarborough\\n       Guildwood, Morningside, West Hill\\n"
            ]
          },
          "metadata": {
            "tags": []
          },
          "execution_count": 206
        }
      ]
    },
    {
      "cell_type": "code",
      "metadata": {
        "id": "u7GCBis8JxsS",
        "colab_type": "code",
        "colab": {}
      },
      "source": [
        "#removing the space in from string in neighbourhood\n",
        "df['Neighbourhood']=df['Neighbourhood'].str.strip()"
      ],
      "execution_count": 207,
      "outputs": []
    },
    {
      "cell_type": "code",
      "metadata": {
        "id": "2f62S6RjQku_",
        "colab_type": "code",
        "colab": {
          "base_uri": "https://localhost:8080/",
          "height": 203
        },
        "outputId": "c64ece4e-e594-4fa5-8c1f-bac743a654ba"
      },
      "source": [
        "#removing \\n in the columns\n",
        "df=df.replace('\\n','',regex=True)\n",
        "df.head()"
      ],
      "execution_count": 208,
      "outputs": [
        {
          "output_type": "execute_result",
          "data": {
            "text/html": [
              "<div>\n",
              "<style scoped>\n",
              "    .dataframe tbody tr th:only-of-type {\n",
              "        vertical-align: middle;\n",
              "    }\n",
              "\n",
              "    .dataframe tbody tr th {\n",
              "        vertical-align: top;\n",
              "    }\n",
              "\n",
              "    .dataframe thead th {\n",
              "        text-align: right;\n",
              "    }\n",
              "</style>\n",
              "<table border=\"1\" class=\"dataframe\">\n",
              "  <thead>\n",
              "    <tr style=\"text-align: right;\">\n",
              "      <th></th>\n",
              "      <th>Postcode</th>\n",
              "      <th>Borough</th>\n",
              "      <th>Neighbourhood</th>\n",
              "    </tr>\n",
              "  </thead>\n",
              "  <tbody>\n",
              "    <tr>\n",
              "      <th>0</th>\n",
              "      <td></td>\n",
              "      <td>Canadian postal codes</td>\n",
              "      <td></td>\n",
              "    </tr>\n",
              "    <tr>\n",
              "      <th>1</th>\n",
              "      <td>M1A</td>\n",
              "      <td>Not assigned</td>\n",
              "      <td>Not assigned</td>\n",
              "    </tr>\n",
              "    <tr>\n",
              "      <th>2</th>\n",
              "      <td>M1B</td>\n",
              "      <td>Scarborough</td>\n",
              "      <td>Malvern, Rouge</td>\n",
              "    </tr>\n",
              "    <tr>\n",
              "      <th>3</th>\n",
              "      <td>M1C</td>\n",
              "      <td>Scarborough</td>\n",
              "      <td>Rouge Hill, Port Union, Highland Creek</td>\n",
              "    </tr>\n",
              "    <tr>\n",
              "      <th>4</th>\n",
              "      <td>M1E</td>\n",
              "      <td>Scarborough</td>\n",
              "      <td>Guildwood, Morningside, West Hill</td>\n",
              "    </tr>\n",
              "  </tbody>\n",
              "</table>\n",
              "</div>"
            ],
            "text/plain": [
              "  Postcode                Borough                           Neighbourhood\n",
              "0           Canadian postal codes                                        \n",
              "1      M1A           Not assigned                            Not assigned\n",
              "2      M1B            Scarborough                          Malvern, Rouge\n",
              "3      M1C            Scarborough  Rouge Hill, Port Union, Highland Creek\n",
              "4      M1E            Scarborough       Guildwood, Morningside, West Hill"
            ]
          },
          "metadata": {
            "tags": []
          },
          "execution_count": 208
        }
      ]
    },
    {
      "cell_type": "code",
      "metadata": {
        "id": "bNY2xEyaZCc0",
        "colab_type": "code",
        "colab": {
          "base_uri": "https://localhost:8080/",
          "height": 203
        },
        "outputId": "3aa64492-82e5-402e-e546-52d33163b215"
      },
      "source": [
        "#dropping the row where borough is not assinged\n",
        "df.drop(index=df.index[df['Borough']=='Not assigned'],inplace=True)\n",
        "df=df.reset_index(drop=True)\n",
        "df.head()"
      ],
      "execution_count": 209,
      "outputs": [
        {
          "output_type": "execute_result",
          "data": {
            "text/html": [
              "<div>\n",
              "<style scoped>\n",
              "    .dataframe tbody tr th:only-of-type {\n",
              "        vertical-align: middle;\n",
              "    }\n",
              "\n",
              "    .dataframe tbody tr th {\n",
              "        vertical-align: top;\n",
              "    }\n",
              "\n",
              "    .dataframe thead th {\n",
              "        text-align: right;\n",
              "    }\n",
              "</style>\n",
              "<table border=\"1\" class=\"dataframe\">\n",
              "  <thead>\n",
              "    <tr style=\"text-align: right;\">\n",
              "      <th></th>\n",
              "      <th>Postcode</th>\n",
              "      <th>Borough</th>\n",
              "      <th>Neighbourhood</th>\n",
              "    </tr>\n",
              "  </thead>\n",
              "  <tbody>\n",
              "    <tr>\n",
              "      <th>0</th>\n",
              "      <td></td>\n",
              "      <td>Canadian postal codes</td>\n",
              "      <td></td>\n",
              "    </tr>\n",
              "    <tr>\n",
              "      <th>1</th>\n",
              "      <td>M1B</td>\n",
              "      <td>Scarborough</td>\n",
              "      <td>Malvern, Rouge</td>\n",
              "    </tr>\n",
              "    <tr>\n",
              "      <th>2</th>\n",
              "      <td>M1C</td>\n",
              "      <td>Scarborough</td>\n",
              "      <td>Rouge Hill, Port Union, Highland Creek</td>\n",
              "    </tr>\n",
              "    <tr>\n",
              "      <th>3</th>\n",
              "      <td>M1E</td>\n",
              "      <td>Scarborough</td>\n",
              "      <td>Guildwood, Morningside, West Hill</td>\n",
              "    </tr>\n",
              "    <tr>\n",
              "      <th>4</th>\n",
              "      <td>M1G</td>\n",
              "      <td>Scarborough</td>\n",
              "      <td>Woburn</td>\n",
              "    </tr>\n",
              "  </tbody>\n",
              "</table>\n",
              "</div>"
            ],
            "text/plain": [
              "  Postcode                Borough                           Neighbourhood\n",
              "0           Canadian postal codes                                        \n",
              "1      M1B            Scarborough                          Malvern, Rouge\n",
              "2      M1C            Scarborough  Rouge Hill, Port Union, Highland Creek\n",
              "3      M1E            Scarborough       Guildwood, Morningside, West Hill\n",
              "4      M1G            Scarborough                                  Woburn"
            ]
          },
          "metadata": {
            "tags": []
          },
          "execution_count": 209
        }
      ]
    },
    {
      "cell_type": "code",
      "metadata": {
        "id": "x7v1kv5oZr19",
        "colab_type": "code",
        "colab": {}
      },
      "source": [
        "#dropping the empty postal code\n",
        "df=df.drop(index=df.index[df['Postcode']==''])"
      ],
      "execution_count": 213,
      "outputs": []
    },
    {
      "cell_type": "code",
      "metadata": {
        "id": "hn3nVywScqKQ",
        "colab_type": "code",
        "colab": {
          "base_uri": "https://localhost:8080/",
          "height": 203
        },
        "outputId": "5dbf0958-c89e-41e4-98e7-c4e34cbd9df8"
      },
      "source": [
        "df.head()"
      ],
      "execution_count": 214,
      "outputs": [
        {
          "output_type": "execute_result",
          "data": {
            "text/html": [
              "<div>\n",
              "<style scoped>\n",
              "    .dataframe tbody tr th:only-of-type {\n",
              "        vertical-align: middle;\n",
              "    }\n",
              "\n",
              "    .dataframe tbody tr th {\n",
              "        vertical-align: top;\n",
              "    }\n",
              "\n",
              "    .dataframe thead th {\n",
              "        text-align: right;\n",
              "    }\n",
              "</style>\n",
              "<table border=\"1\" class=\"dataframe\">\n",
              "  <thead>\n",
              "    <tr style=\"text-align: right;\">\n",
              "      <th></th>\n",
              "      <th>Postcode</th>\n",
              "      <th>Borough</th>\n",
              "      <th>Neighbourhood</th>\n",
              "    </tr>\n",
              "  </thead>\n",
              "  <tbody>\n",
              "    <tr>\n",
              "      <th>1</th>\n",
              "      <td>M1B</td>\n",
              "      <td>Scarborough</td>\n",
              "      <td>Malvern, Rouge</td>\n",
              "    </tr>\n",
              "    <tr>\n",
              "      <th>2</th>\n",
              "      <td>M1C</td>\n",
              "      <td>Scarborough</td>\n",
              "      <td>Rouge Hill, Port Union, Highland Creek</td>\n",
              "    </tr>\n",
              "    <tr>\n",
              "      <th>3</th>\n",
              "      <td>M1E</td>\n",
              "      <td>Scarborough</td>\n",
              "      <td>Guildwood, Morningside, West Hill</td>\n",
              "    </tr>\n",
              "    <tr>\n",
              "      <th>4</th>\n",
              "      <td>M1G</td>\n",
              "      <td>Scarborough</td>\n",
              "      <td>Woburn</td>\n",
              "    </tr>\n",
              "    <tr>\n",
              "      <th>5</th>\n",
              "      <td>M1H</td>\n",
              "      <td>Scarborough</td>\n",
              "      <td>Cedarbrae</td>\n",
              "    </tr>\n",
              "  </tbody>\n",
              "</table>\n",
              "</div>"
            ],
            "text/plain": [
              "  Postcode      Borough                           Neighbourhood\n",
              "1      M1B  Scarborough                          Malvern, Rouge\n",
              "2      M1C  Scarborough  Rouge Hill, Port Union, Highland Creek\n",
              "3      M1E  Scarborough       Guildwood, Morningside, West Hill\n",
              "4      M1G  Scarborough                                  Woburn\n",
              "5      M1H  Scarborough                               Cedarbrae"
            ]
          },
          "metadata": {
            "tags": []
          },
          "execution_count": 214
        }
      ]
    },
    {
      "cell_type": "code",
      "metadata": {
        "id": "Sm8oWT9hcv8w",
        "colab_type": "code",
        "colab": {}
      },
      "source": [
        "#assigning the value of postcode to neighbourhood where neighbourhood is not assigned\n",
        "df.loc[df['Neighbourhood']=='Not assigned','Neighbourhood']=df['Postcode']"
      ],
      "execution_count": 215,
      "outputs": []
    },
    {
      "cell_type": "code",
      "metadata": {
        "id": "xO34kDmMdd4D",
        "colab_type": "code",
        "colab": {
          "base_uri": "https://localhost:8080/",
          "height": 203
        },
        "outputId": "91634404-19a0-4d81-b3f0-243b5a2dd31c"
      },
      "source": [
        "df.head()"
      ],
      "execution_count": 216,
      "outputs": [
        {
          "output_type": "execute_result",
          "data": {
            "text/html": [
              "<div>\n",
              "<style scoped>\n",
              "    .dataframe tbody tr th:only-of-type {\n",
              "        vertical-align: middle;\n",
              "    }\n",
              "\n",
              "    .dataframe tbody tr th {\n",
              "        vertical-align: top;\n",
              "    }\n",
              "\n",
              "    .dataframe thead th {\n",
              "        text-align: right;\n",
              "    }\n",
              "</style>\n",
              "<table border=\"1\" class=\"dataframe\">\n",
              "  <thead>\n",
              "    <tr style=\"text-align: right;\">\n",
              "      <th></th>\n",
              "      <th>Postcode</th>\n",
              "      <th>Borough</th>\n",
              "      <th>Neighbourhood</th>\n",
              "    </tr>\n",
              "  </thead>\n",
              "  <tbody>\n",
              "    <tr>\n",
              "      <th>1</th>\n",
              "      <td>M1B</td>\n",
              "      <td>Scarborough</td>\n",
              "      <td>Malvern, Rouge</td>\n",
              "    </tr>\n",
              "    <tr>\n",
              "      <th>2</th>\n",
              "      <td>M1C</td>\n",
              "      <td>Scarborough</td>\n",
              "      <td>Rouge Hill, Port Union, Highland Creek</td>\n",
              "    </tr>\n",
              "    <tr>\n",
              "      <th>3</th>\n",
              "      <td>M1E</td>\n",
              "      <td>Scarborough</td>\n",
              "      <td>Guildwood, Morningside, West Hill</td>\n",
              "    </tr>\n",
              "    <tr>\n",
              "      <th>4</th>\n",
              "      <td>M1G</td>\n",
              "      <td>Scarborough</td>\n",
              "      <td>Woburn</td>\n",
              "    </tr>\n",
              "    <tr>\n",
              "      <th>5</th>\n",
              "      <td>M1H</td>\n",
              "      <td>Scarborough</td>\n",
              "      <td>Cedarbrae</td>\n",
              "    </tr>\n",
              "  </tbody>\n",
              "</table>\n",
              "</div>"
            ],
            "text/plain": [
              "  Postcode      Borough                           Neighbourhood\n",
              "1      M1B  Scarborough                          Malvern, Rouge\n",
              "2      M1C  Scarborough  Rouge Hill, Port Union, Highland Creek\n",
              "3      M1E  Scarborough       Guildwood, Morningside, West Hill\n",
              "4      M1G  Scarborough                                  Woburn\n",
              "5      M1H  Scarborough                               Cedarbrae"
            ]
          },
          "metadata": {
            "tags": []
          },
          "execution_count": 216
        }
      ]
    },
    {
      "cell_type": "code",
      "metadata": {
        "id": "OxC0lxcneD1d",
        "colab_type": "code",
        "colab": {
          "base_uri": "https://localhost:8080/",
          "height": 34
        },
        "outputId": "2b9e9d76-0e5f-4976-a4d1-3a2cd070129f"
      },
      "source": [
        "df.shape"
      ],
      "execution_count": 217,
      "outputs": [
        {
          "output_type": "execute_result",
          "data": {
            "text/plain": [
              "(103, 3)"
            ]
          },
          "metadata": {
            "tags": []
          },
          "execution_count": 217
        }
      ]
    },
    {
      "cell_type": "code",
      "metadata": {
        "id": "2P0L_sXsePZi",
        "colab_type": "code",
        "colab": {}
      },
      "source": [
        ""
      ],
      "execution_count": null,
      "outputs": []
    }
  ]
}